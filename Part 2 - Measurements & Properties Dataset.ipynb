{
 "cells": [
  {
   "cell_type": "code",
   "execution_count": 24,
   "id": "03c47ad1-48be-462c-b9df-ca60189729cb",
   "metadata": {},
   "outputs": [],
   "source": [
    "import matplotlib.pyplot as plt\n",
    "import numpy as np\n",
    "import pandas as pd\n",
    "from astroquery.gaia import Gaia\n",
    "from astroquery.vizier import Vizier"
   ]
  },
  {
   "cell_type": "code",
   "execution_count": 2,
   "id": "2b4b0d2e-bbd3-4d9e-b2ff-68afb0f0a6ed",
   "metadata": {},
   "outputs": [
    {
     "name": "stdout",
     "output_type": "stream",
     "text": [
      "INFO: Query finished. [astroquery.utils.tap.core]\n"
     ]
    }
   ],
   "source": [
    "# FGKM Data\n",
    "job = Gaia.launch_job_async(\"SELECT source_id, lum_flame, teff_gspphot, mh_gspphot, age_flame, ebpminrp_gspphot \\\n",
    "FROM gaiadr3.gold_sample_fgkm_stars\")"
   ]
  },
  {
   "cell_type": "code",
   "execution_count": 8,
   "id": "a1dfb9e1-17b6-4ffc-9e00-7144a26aff50",
   "metadata": {},
   "outputs": [
    {
     "name": "stdout",
     "output_type": "stream",
     "text": [
      "INFO: Query finished. [astroquery.utils.tap.core]\n"
     ]
    }
   ],
   "source": [
    "# Crossmatching source id's of FGKM sample with Gaia for radial velocity, radial velocity error (which is specified in Gaia's\n",
    "# data release as the uncertainty value), and proper motion.\n",
    "job2 = Gaia.launch_job_async(\"SELECT source_id, radial_velocity, radial_velocity_error, pm, phot_g_mean_mag \\\n",
    "FROM gaiadr3.gaia_source AS dr3 \\\n",
    "JOIN gaiadr3.gold_sample_fgkm_stars AS xmatch USING (source_id)\")"
   ]
  },
  {
   "cell_type": "code",
   "execution_count": 9,
   "id": "bb99223b-564a-48db-b102-bab52eae5247",
   "metadata": {},
   "outputs": [
    {
     "name": "stdout",
     "output_type": "stream",
     "text": [
      "     source_id      radial_velocity ...     pm    phot_g_mean_mag\n",
      "                         km / s     ...  mas / yr       mag      \n",
      "------------------- --------------- ... --------- ---------------\n",
      "      8044474553216              -- ... 14.712925       14.947446\n",
      "     12545600306304      -48.036938 ... 48.337337       12.194942\n",
      "     14401026146688              -- ... 6.6363807       14.904602\n",
      "     15637976759168      -34.489674 ... 1.9501954       13.135885\n",
      "     16531329957376      -25.610313 ...  89.93515      10.0337925\n",
      "     16733192740608              -- ... 23.467905        9.925234\n",
      "     26834955821312       24.510994 ... 27.242292      10.0179405\n",
      "     30034707100800      -32.520874 ...  15.30033       14.038215\n",
      "     38349763812096              -- ... 7.8729506       15.268802\n",
      "     38693361197568      -20.947187 ...  6.599868       13.818121\n",
      "                ...             ... ...       ...             ...\n",
      "6347928441918018432       46.322063 ... 20.121223       13.352476\n",
      "6347929197832256000              -- ... 49.886177       16.970419\n",
      "6347930434782730240              -- ... 4.3842297       16.173443\n",
      "6347935550087124992        79.57785 ...  32.53638       12.622627\n",
      "6347937959565506176       48.078903 ... 43.056953       15.059469\n",
      "6347938195787652480              -- ...  75.89903        17.23165\n",
      "6347939127796598656              -- ... 30.788006       15.433553\n",
      "6347939849351086976              -- ... 14.538772       15.545713\n",
      "6347941567337997056              -- ... 15.334482       15.995178\n",
      "6347944247397607680              -- ... 36.185223         17.6112\n",
      "Length = 3000000 rows\n"
     ]
    }
   ],
   "source": [
    "# Checking results.\n",
    "fgkm_new = job2.get_results()\n",
    "print(fgkm_new)"
   ]
  },
  {
   "cell_type": "code",
   "execution_count": 4,
   "id": "ac82ab14-5b9a-4e52-8e43-bfebff2f1985",
   "metadata": {},
   "outputs": [],
   "source": [
    "# Gaia's archives do not have a specific data column or source for proper motion uncertainty that I can crossmatch with \n",
    "# (they do have some for error though). However, on the webpage detailing the Gaia Data Release 3 contents and limitations, \n",
    "# they do specifically mention that the median proper motion uncertainties are 0.02-0.03 mas/yr for G<15, 0.07 mas/yr at \n",
    "# G=17, 0.5 mas/yr at G=20, and 1.4 mas/yr at G=21 mag. These G magnitudes were crossmatched through phot_g_mean_mag in \n",
    "# the Gaia archive, in case this information is useful."
   ]
  },
  {
   "cell_type": "code",
   "execution_count": 29,
   "id": "21a1d0a2-1ffc-4aaa-a0bd-cea35e58f9c4",
   "metadata": {},
   "outputs": [
    {
     "name": "stdout",
     "output_type": "stream",
     "text": [
      "Retrieving table 'external.gaiaedr3_distance'\n",
      "TAP Table name: external.external.gaiaedr3_distance\n",
      "Description: \n",
      "Bailer-Jones et al. (2021) EDR3 distances. <p> Estimating distances from parallaxes. V: Geometric and photogeometric distances to 1.47 billion stars in Gaia Early Data Release 3.\n",
      "Bailer-Jones et al. 2021 AJ 161 147. Data replicated from gedr3dist.main table at GAVO Data Center TAP service https://dc.g-vo.org/tap and TAP metadata as of December 2020.\n",
      "<p>\n",
      "    Original table description.\n",
      "<p>\n",
      "    We estimate the distance from the Sun to sources in Gaia EDR3 that have\n",
      "    parallaxes. We provide two types of distance estimate, together with\n",
      "    their corresponding asymmetric uncertainties, using Bayesian posterior\n",
      "    density functions that we sample for each source. Our prior is based\n",
      "    on a detailed model of the 3D spatial, colour, and magnitude\n",
      "    distribution of stars in our Galaxy that includes a 3D map of\n",
      "    interstellar extinction.\n",
      "<p>\n",
      "    The first type of distance estimate is purely geometric, in that it only\n",
      "    makes use of the Gaia parallax and parallax uncertainty. This uses a\n",
      "    direction-dependent distance prior derived from our Galaxy model. The\n",
      "    second type of distance estimate is photogeometric: in addition to\n",
      "    parallax it also uses the source's G-band magnitude and BP-RP\n",
      "    colour. This type of estimate uses the geometric prior together with a\n",
      "    direction-dependent and colour-dependent prior on the absolute magnitude\n",
      "    of the star.\n",
      "<p>\n",
      "    Our distance estimate and uncertainties are quantiles, so are invariant\n",
      "    under logarithmic transformations. This means that our median estimate\n",
      "    of the distance can be used to give the median estimate of the distance\n",
      "    modulus, and likewise for the uncertainties.\n",
      "Num. columns: 8\n"
     ]
    }
   ],
   "source": [
    "# Checking for the Bailer-Jones distance catalog's existence within Gaia.\n",
    "distance_table = Gaia.load_table(\"external.gaiaedr3_distance\")\n",
    "print(distance_table)"
   ]
  },
  {
   "cell_type": "code",
   "execution_count": 31,
   "id": "0eaaa580-ce86-4446-ad6a-ad286b39bbe6",
   "metadata": {},
   "outputs": [
    {
     "name": "stdout",
     "output_type": "stream",
     "text": [
      "source_id\n",
      "r_med_geo\n",
      "r_lo_geo\n",
      "r_hi_geo\n",
      "r_med_photogeo\n",
      "r_lo_photogeo\n",
      "r_hi_photogeo\n",
      "flag\n"
     ]
    }
   ],
   "source": [
    "# Looking at the column metadata for the catalog's table.\n",
    "for column in distance_table.columns:\n",
    "    print(column.name)"
   ]
  },
  {
   "cell_type": "code",
   "execution_count": 32,
   "id": "c5758e69-5f0b-40f9-a604-7609882b1b07",
   "metadata": {},
   "outputs": [
    {
     "name": "stdout",
     "output_type": "stream",
     "text": [
      "INFO: Query finished. [astroquery.utils.tap.core]\n"
     ]
    }
   ],
   "source": [
    "# Crossmatching with the FGKM sample.\n",
    "job4 = Gaia.launch_job_async(\"SELECT source_id, r_med_geo, r_lo_geo, r_hi_geo, r_med_photogeo, r_lo_photogeo, r_hi_photogeo \\\n",
    "FROM external.gaiaedr3_distance \\\n",
    "JOIN gaiadr3.gold_sample_fgkm_stars AS xmatch USING (source_id)\")"
   ]
  },
  {
   "cell_type": "code",
   "execution_count": 33,
   "id": "614fb3f6-bd79-440b-83be-50939edeb97a",
   "metadata": {},
   "outputs": [
    {
     "name": "stdout",
     "output_type": "stream",
     "text": [
      "     source_id      r_med_geo  r_lo_geo ... r_lo_photogeo r_hi_photogeo\n",
      "                        pc        pc    ...       pc            pc     \n",
      "------------------- --------- --------- ... ------------- -------------\n",
      "      8044474553216 590.81683  580.0101 ...     583.34924      603.8781\n",
      "     12545600306304  230.1045 228.83165 ...     229.11658     231.29326\n",
      "     14401026146688  785.2145  772.1763 ...       768.195      802.9816\n",
      "     15637976759168  732.0263  724.8018 ...      722.2218     738.58264\n",
      "     16531329957376 116.74163 116.45008 ...     116.45989     116.90652\n",
      "     16733192740608 181.79086 181.07738 ...     181.02267     182.45615\n",
      "     26834955821312  167.1039 166.75528 ...     166.73569     167.44814\n",
      "     30034707100800  942.9716  928.0086 ...     926.12695      957.4273\n",
      "     38349763812096 463.56647 456.65765 ...     456.35257      469.8667\n",
      "     38693361197568 863.81824  853.5123 ...      850.7704     880.17944\n",
      "                ...       ...       ... ...           ...           ...\n",
      "6347928441918018432 220.69162 220.04901 ...     220.01732     221.14436\n",
      "6347929197832256000 443.23962 432.71893 ...     430.62225     453.38007\n",
      "6347930434782730240 547.88837 535.02313 ...     536.62415     555.79913\n",
      "6347935550087124992 447.70306 445.55005 ...     445.21817      450.0533\n",
      "6347937959565506176 232.81146  231.7363 ...     231.60846      233.9927\n",
      "6347938195787652480 168.19095  166.4621 ...     166.13185     169.63892\n",
      "6347939127796598656 473.61682 468.71982 ...     469.44284      478.6713\n",
      "6347939849351086976 493.53207 487.38593 ...     487.04013       500.833\n",
      "6347941567337997056 635.83344 623.06024 ...      624.2873     648.82465\n",
      "6347944247397607680 307.42175 301.01962 ...     302.45917     315.33438\n",
      "Length = 3000000 rows\n"
     ]
    }
   ],
   "source": [
    "# Checking results.\n",
    "fgkm_distance = job4.get_results()\n",
    "print(fgkm_distance)"
   ]
  },
  {
   "cell_type": "code",
   "execution_count": null,
   "id": "11c97f7f-1be0-45d8-8007-01eee244314a",
   "metadata": {},
   "outputs": [],
   "source": [
    "# Previous, failed attempts at crossmatching for the Bailer-Jones catalog. This can be ignored, but I've kept it here in case\n",
    "# it has some refernce use for myself later.\n",
    "\n",
    "#job3 = Gaia.launch_job_async(\"SELECT source_id, ra, dec, r_med_geo, r_lo_geo, r_hi_geo, r_med_photogeo, r_lo_photogeo, \\\n",
    "#r_hi_photogeo, phot_bp_mean_mag-phot_rp_mean_mag AS bp_rp, phot_g_mean_mag-5*LOG10(r_med_geo)+5 AS qg_geo, \\\n",
    "#phot_g_mean_mag-5*LOG10(r_med_photogeo)+5 AS gq_photogeo \\\n",
    "#FROM gedr3dist.main \\\n",
    "#JOIN gaiadr3.gold_sample_fgkm_stars AS xmatch USING (source_id)\")"
   ]
  }
 ],
 "metadata": {
  "kernelspec": {
   "display_name": "Python 3 (ipykernel)",
   "language": "python",
   "name": "python3"
  },
  "language_info": {
   "codemirror_mode": {
    "name": "ipython",
    "version": 3
   },
   "file_extension": ".py",
   "mimetype": "text/x-python",
   "name": "python",
   "nbconvert_exporter": "python",
   "pygments_lexer": "ipython3",
   "version": "3.9.7"
  }
 },
 "nbformat": 4,
 "nbformat_minor": 5
}
